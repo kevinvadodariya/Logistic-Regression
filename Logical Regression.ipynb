{
 "cells": [
  {
   "cell_type": "code",
   "execution_count": 36,
   "id": "dd9b2920",
   "metadata": {},
   "outputs": [],
   "source": [
    "import numpy as np\n",
    "import matplotlib.pyplot as plt\n",
    "import pandas as pd\n",
    "from sklearn import linear_model"
   ]
  },
  {
   "cell_type": "code",
   "execution_count": 47,
   "id": "63845293",
   "metadata": {},
   "outputs": [
    {
     "name": "stdout",
     "output_type": "stream",
     "text": [
      "        crim    zn  indus  chas    nox     rm   age     dis  rad  tax  \\\n",
      "0    0.00632  18.0   2.31     0  0.538  6.575  65.2  4.0900    1  296   \n",
      "1    0.02731   0.0   7.07     0  0.469  6.421  78.9  4.9671    2  242   \n",
      "2    0.02729   0.0   7.07     0  0.469  7.185  61.1  4.9671    2  242   \n",
      "3    0.03237   0.0   2.18     0  0.458  6.998  45.8  6.0622    3  222   \n",
      "4    0.06905   0.0   2.18     0  0.458  7.147  54.2  6.0622    3  222   \n",
      "..       ...   ...    ...   ...    ...    ...   ...     ...  ...  ...   \n",
      "501  0.06263   0.0  11.93     0  0.573  6.593  69.1  2.4786    1  273   \n",
      "502  0.04527   0.0  11.93     0  0.573  6.120  76.7  2.2875    1  273   \n",
      "503  0.06076   0.0  11.93     0  0.573  6.976  91.0  2.1675    1  273   \n",
      "504  0.10959   0.0  11.93     0  0.573  6.794  89.3  2.3889    1  273   \n",
      "505  0.04741   0.0  11.93     0  0.573  6.030  80.8  2.5050    1  273   \n",
      "\n",
      "     ptratio       b  lstat  medv  \n",
      "0       15.3  396.90   4.98  24.0  \n",
      "1       17.8  396.90   9.14  21.6  \n",
      "2       17.8  392.83   4.03  34.7  \n",
      "3       18.7  394.63   2.94  33.4  \n",
      "4       18.7  396.90   5.33  36.2  \n",
      "..       ...     ...    ...   ...  \n",
      "501     21.0  391.99   9.67  22.4  \n",
      "502     21.0  396.90   9.08  20.6  \n",
      "503     21.0  396.90   5.64  23.9  \n",
      "504     21.0  393.45   6.48  22.0  \n",
      "505     21.0  396.90   7.88  11.9  \n",
      "\n",
      "[506 rows x 14 columns]\n"
     ]
    }
   ],
   "source": [
    "d=pd.read_csv('BostonHousing.csv')\n",
    "print(d)"
   ]
  },
  {
   "cell_type": "code",
   "execution_count": 38,
   "id": "afef30d2",
   "metadata": {},
   "outputs": [],
   "source": [
    "from sklearn.model_selection import train_test_split\n",
    "from sklearn.linear_model import LinearRegression\n",
    "# from sklearn.metrics import mean_absolute_error, mean_squared_error, r2_score"
   ]
  },
  {
   "cell_type": "code",
   "execution_count": 48,
   "id": "785522a0",
   "metadata": {},
   "outputs": [],
   "source": [
    "d.dropna(inplace=True)\n",
    "x=d[['crim','zn','indus','chas','nox','rm','age','dis','rad','tax','ptratio','b','lstat']]\n",
    "y=d[['medv']]"
   ]
  },
  {
   "cell_type": "code",
   "execution_count": 40,
   "id": "86b6278c",
   "metadata": {},
   "outputs": [],
   "source": [
    "x_train,x_test,y_train,y_test=train_test_split(x,y,test_size=0.4)"
   ]
  },
  {
   "cell_type": "code",
   "execution_count": 49,
   "id": "97651206",
   "metadata": {},
   "outputs": [
    {
     "data": {
      "text/plain": [
       "LinearRegression()"
      ]
     },
     "execution_count": 49,
     "metadata": {},
     "output_type": "execute_result"
    }
   ],
   "source": [
    "reg=linear_model.LinearRegression()\n",
    "reg.fit(x_train,y_train)"
   ]
  },
  {
   "cell_type": "code",
   "execution_count": 50,
   "id": "17b441d2",
   "metadata": {},
   "outputs": [
    {
     "data": {
      "text/plain": [
       "array([[30.13303409],\n",
       "       [21.86992358],\n",
       "       [16.04854642],\n",
       "       [21.76768985],\n",
       "       [19.97443227],\n",
       "       [34.8878735 ],\n",
       "       [20.81055859],\n",
       "       [26.9797522 ],\n",
       "       [22.82670162],\n",
       "       [15.77340991],\n",
       "       [30.97111946],\n",
       "       [34.33268032],\n",
       "       [14.67076305],\n",
       "       [20.00724787],\n",
       "       [15.13747158],\n",
       "       [13.12955143],\n",
       "       [14.47339726],\n",
       "       [14.71961373],\n",
       "       [12.57271818],\n",
       "       [22.92669745],\n",
       "       [23.47253716],\n",
       "       [16.29910244],\n",
       "       [23.17820585],\n",
       "       [ 8.55236867],\n",
       "       [15.3098655 ],\n",
       "       [22.60743515],\n",
       "       [29.31100366],\n",
       "       [32.17345051],\n",
       "       [10.25738401],\n",
       "       [25.4654405 ],\n",
       "       [34.48843958],\n",
       "       [36.84392669],\n",
       "       [22.37937566],\n",
       "       [35.6884122 ],\n",
       "       [34.7261399 ],\n",
       "       [12.81176344],\n",
       "       [22.50917389],\n",
       "       [10.84787098],\n",
       "       [17.88788707],\n",
       "       [20.16854193],\n",
       "       [23.18933926],\n",
       "       [ 9.41143379],\n",
       "       [29.50469229],\n",
       "       [27.22784123],\n",
       "       [20.48789924],\n",
       "       [22.75375653],\n",
       "       [21.09856742],\n",
       "       [27.93318775],\n",
       "       [34.54883853],\n",
       "       [21.53422703],\n",
       "       [15.23409137],\n",
       "       [12.66610289],\n",
       "       [16.5692602 ],\n",
       "       [30.57342125],\n",
       "       [29.15175948],\n",
       "       [19.46210198],\n",
       "       [30.08718952],\n",
       "       [20.13919451],\n",
       "       [18.47343738],\n",
       "       [27.6316972 ],\n",
       "       [17.25738299],\n",
       "       [32.52612144],\n",
       "       [21.01711819],\n",
       "       [19.02528574],\n",
       "       [17.97629279],\n",
       "       [45.93203762],\n",
       "       [24.37047069],\n",
       "       [23.09555119],\n",
       "       [21.35547235],\n",
       "       [18.61499979],\n",
       "       [23.34887084],\n",
       "       [20.45898173],\n",
       "       [17.29728232],\n",
       "       [20.6528981 ],\n",
       "       [35.04667472],\n",
       "       [21.52248804],\n",
       "       [ 6.3123773 ],\n",
       "       [17.08075025],\n",
       "       [16.06278325],\n",
       "       [24.76736649],\n",
       "       [16.8023784 ],\n",
       "       [31.83209798],\n",
       "       [23.84621109],\n",
       "       [27.53453357],\n",
       "       [25.97449566],\n",
       "       [12.82159633],\n",
       "       [13.26226068],\n",
       "       [18.94461118],\n",
       "       [ 8.77646425],\n",
       "       [23.55853262],\n",
       "       [16.17030672],\n",
       "       [17.16355272],\n",
       "       [37.58801484],\n",
       "       [ 6.25775637],\n",
       "       [20.4768821 ],\n",
       "       [19.34342146],\n",
       "       [12.0415543 ],\n",
       "       [11.66770628],\n",
       "       [19.86352149],\n",
       "       [14.26503739],\n",
       "       [26.86534444],\n",
       "       [22.52330149],\n",
       "       [17.62816529],\n",
       "       [18.63335116],\n",
       "       [33.97703476],\n",
       "       [32.82467548],\n",
       "       [23.28146309],\n",
       "       [19.21708187],\n",
       "       [19.12973394],\n",
       "       [22.04768317],\n",
       "       [18.10346529],\n",
       "       [17.87131416],\n",
       "       [18.16826033],\n",
       "       [28.71240767],\n",
       "       [12.84502164],\n",
       "       [19.53607983],\n",
       "       [20.83808251],\n",
       "       [34.28117482],\n",
       "       [21.73852606],\n",
       "       [43.55848833],\n",
       "       [26.1551129 ],\n",
       "       [32.08751301],\n",
       "       [21.85654673],\n",
       "       [34.38116242],\n",
       "       [33.06163212],\n",
       "       [24.63071847],\n",
       "       [ 6.26299427],\n",
       "       [28.63526518],\n",
       "       [23.50775597],\n",
       "       [27.99953787],\n",
       "       [28.25464798],\n",
       "       [13.10941927],\n",
       "       [25.25903576],\n",
       "       [23.73451793],\n",
       "       [23.18021898],\n",
       "       [ 0.28225855],\n",
       "       [21.91593088],\n",
       "       [29.51621285],\n",
       "       [19.04781808],\n",
       "       [19.44395607],\n",
       "       [24.05203528],\n",
       "       [24.68639463],\n",
       "       [23.43539731],\n",
       "       [18.43283147],\n",
       "       [11.89642432],\n",
       "       [24.19751197],\n",
       "       [25.28424967],\n",
       "       [14.6616349 ],\n",
       "       [ 2.88510963],\n",
       "       [20.18406601],\n",
       "       [20.04473658],\n",
       "       [28.97520338],\n",
       "       [18.46131094],\n",
       "       [24.07336171],\n",
       "       [24.16392421],\n",
       "       [37.18459813],\n",
       "       [14.86055989],\n",
       "       [14.59313039],\n",
       "       [ 8.61499565],\n",
       "       [18.9457423 ],\n",
       "       [25.6325886 ],\n",
       "       [21.06315582],\n",
       "       [25.73566408],\n",
       "       [14.10714374],\n",
       "       [27.6915289 ],\n",
       "       [19.20608444],\n",
       "       [19.12433733],\n",
       "       [22.83246498],\n",
       "       [ 6.91864683],\n",
       "       [22.28506872],\n",
       "       [17.53573287],\n",
       "       [31.41877751],\n",
       "       [22.10672859],\n",
       "       [19.94823178],\n",
       "       [35.93689382],\n",
       "       [18.11226539],\n",
       "       [23.95574889],\n",
       "       [19.74131394],\n",
       "       [19.95319193],\n",
       "       [26.4839966 ],\n",
       "       [23.29471757],\n",
       "       [19.51909468],\n",
       "       [14.12028781],\n",
       "       [35.54291063],\n",
       "       [37.23722061],\n",
       "       [38.15516524],\n",
       "       [19.12665394],\n",
       "       [18.1213606 ],\n",
       "       [28.69472584],\n",
       "       [18.70112867],\n",
       "       [20.13111727],\n",
       "       [12.28835506],\n",
       "       [28.47140642],\n",
       "       [18.08107397],\n",
       "       [15.76122186],\n",
       "       [37.95427613],\n",
       "       [37.26609355],\n",
       "       [17.32369355],\n",
       "       [21.6388145 ],\n",
       "       [ 7.63457391],\n",
       "       [17.25640805],\n",
       "       [23.82934606],\n",
       "       [39.48625672]])"
      ]
     },
     "execution_count": 50,
     "metadata": {},
     "output_type": "execute_result"
    }
   ],
   "source": [
    "reg.predict(x_test)"
   ]
  },
  {
   "cell_type": "code",
   "execution_count": 51,
   "id": "084f7e86",
   "metadata": {},
   "outputs": [
    {
     "data": {
      "text/html": [
       "<div>\n",
       "<style scoped>\n",
       "    .dataframe tbody tr th:only-of-type {\n",
       "        vertical-align: middle;\n",
       "    }\n",
       "\n",
       "    .dataframe tbody tr th {\n",
       "        vertical-align: top;\n",
       "    }\n",
       "\n",
       "    .dataframe thead th {\n",
       "        text-align: right;\n",
       "    }\n",
       "</style>\n",
       "<table border=\"1\" class=\"dataframe\">\n",
       "  <thead>\n",
       "    <tr style=\"text-align: right;\">\n",
       "      <th></th>\n",
       "      <th>sepal.length</th>\n",
       "      <th>sepal.width</th>\n",
       "      <th>petal.length</th>\n",
       "      <th>petal.width</th>\n",
       "      <th>variety</th>\n",
       "    </tr>\n",
       "  </thead>\n",
       "  <tbody>\n",
       "    <tr>\n",
       "      <th>0</th>\n",
       "      <td>5.1</td>\n",
       "      <td>3.5</td>\n",
       "      <td>1.4</td>\n",
       "      <td>0.2</td>\n",
       "      <td>Setosa</td>\n",
       "    </tr>\n",
       "    <tr>\n",
       "      <th>1</th>\n",
       "      <td>4.9</td>\n",
       "      <td>3.0</td>\n",
       "      <td>1.4</td>\n",
       "      <td>0.2</td>\n",
       "      <td>Setosa</td>\n",
       "    </tr>\n",
       "    <tr>\n",
       "      <th>2</th>\n",
       "      <td>4.7</td>\n",
       "      <td>3.2</td>\n",
       "      <td>1.3</td>\n",
       "      <td>0.2</td>\n",
       "      <td>Setosa</td>\n",
       "    </tr>\n",
       "    <tr>\n",
       "      <th>3</th>\n",
       "      <td>4.6</td>\n",
       "      <td>3.1</td>\n",
       "      <td>1.5</td>\n",
       "      <td>0.2</td>\n",
       "      <td>Setosa</td>\n",
       "    </tr>\n",
       "    <tr>\n",
       "      <th>4</th>\n",
       "      <td>5.0</td>\n",
       "      <td>3.6</td>\n",
       "      <td>1.4</td>\n",
       "      <td>0.2</td>\n",
       "      <td>Setosa</td>\n",
       "    </tr>\n",
       "    <tr>\n",
       "      <th>...</th>\n",
       "      <td>...</td>\n",
       "      <td>...</td>\n",
       "      <td>...</td>\n",
       "      <td>...</td>\n",
       "      <td>...</td>\n",
       "    </tr>\n",
       "    <tr>\n",
       "      <th>145</th>\n",
       "      <td>6.7</td>\n",
       "      <td>3.0</td>\n",
       "      <td>5.2</td>\n",
       "      <td>2.3</td>\n",
       "      <td>Virginica</td>\n",
       "    </tr>\n",
       "    <tr>\n",
       "      <th>146</th>\n",
       "      <td>6.3</td>\n",
       "      <td>2.5</td>\n",
       "      <td>5.0</td>\n",
       "      <td>1.9</td>\n",
       "      <td>Virginica</td>\n",
       "    </tr>\n",
       "    <tr>\n",
       "      <th>147</th>\n",
       "      <td>6.5</td>\n",
       "      <td>3.0</td>\n",
       "      <td>5.2</td>\n",
       "      <td>2.0</td>\n",
       "      <td>Virginica</td>\n",
       "    </tr>\n",
       "    <tr>\n",
       "      <th>148</th>\n",
       "      <td>6.2</td>\n",
       "      <td>3.4</td>\n",
       "      <td>5.4</td>\n",
       "      <td>2.3</td>\n",
       "      <td>Virginica</td>\n",
       "    </tr>\n",
       "    <tr>\n",
       "      <th>149</th>\n",
       "      <td>5.9</td>\n",
       "      <td>3.0</td>\n",
       "      <td>5.1</td>\n",
       "      <td>1.8</td>\n",
       "      <td>Virginica</td>\n",
       "    </tr>\n",
       "  </tbody>\n",
       "</table>\n",
       "<p>150 rows × 5 columns</p>\n",
       "</div>"
      ],
      "text/plain": [
       "     sepal.length  sepal.width  petal.length  petal.width    variety\n",
       "0             5.1          3.5           1.4          0.2     Setosa\n",
       "1             4.9          3.0           1.4          0.2     Setosa\n",
       "2             4.7          3.2           1.3          0.2     Setosa\n",
       "3             4.6          3.1           1.5          0.2     Setosa\n",
       "4             5.0          3.6           1.4          0.2     Setosa\n",
       "..            ...          ...           ...          ...        ...\n",
       "145           6.7          3.0           5.2          2.3  Virginica\n",
       "146           6.3          2.5           5.0          1.9  Virginica\n",
       "147           6.5          3.0           5.2          2.0  Virginica\n",
       "148           6.2          3.4           5.4          2.3  Virginica\n",
       "149           5.9          3.0           5.1          1.8  Virginica\n",
       "\n",
       "[150 rows x 5 columns]"
      ]
     },
     "execution_count": 51,
     "metadata": {},
     "output_type": "execute_result"
    }
   ],
   "source": [
    "ir=pd.read_csv('iris.csv')\n",
    "ir"
   ]
  },
  {
   "cell_type": "code",
   "execution_count": 53,
   "id": "8ca1f16a",
   "metadata": {},
   "outputs": [],
   "source": [
    "x=ir.iloc[:,0:4].values"
   ]
  },
  {
   "cell_type": "code",
   "execution_count": 63,
   "id": "058c4bfb",
   "metadata": {},
   "outputs": [
    {
     "data": {
      "text/plain": [
       "array([0, 0, 0, 0, 0, 0, 0, 0, 0, 0, 0, 0, 0, 0, 0, 0, 0, 0, 0, 0, 0, 0,\n",
       "       0, 0, 0, 0, 0, 0, 0, 0, 0, 0, 0, 0, 0, 0, 0, 0, 0, 0, 0, 0, 0, 0,\n",
       "       0, 0, 0, 0, 0, 0, 1, 1, 1, 1, 1, 1, 1, 1, 1, 1, 1, 1, 1, 1, 1, 1,\n",
       "       1, 1, 1, 1, 1, 1, 1, 1, 1, 1, 1, 1, 1, 1, 1, 1, 1, 1, 1, 1, 1, 1,\n",
       "       1, 1, 1, 1, 1, 1, 1, 1, 1, 1, 1, 1, 2, 2, 2, 2, 2, 2, 2, 2, 2, 2,\n",
       "       2, 2, 2, 2, 2, 2, 2, 2, 2, 2, 2, 2, 2, 2, 2, 2, 2, 2, 2, 2, 2, 2,\n",
       "       2, 2, 2, 2, 2, 2, 2, 2, 2, 2, 2, 2, 2, 2, 2, 2, 2, 2])"
      ]
     },
     "execution_count": 63,
     "metadata": {},
     "output_type": "execute_result"
    }
   ],
   "source": [
    "y=ir.iloc[:,4].values\n",
    "from sklearn.preprocessing import LabelEncoder\n",
    "labelencoder_y=LabelEncoder()\n",
    "y=labelencoder_y.fit_transform(y)\n",
    "y"
   ]
  },
  {
   "cell_type": "code",
   "execution_count": 64,
   "id": "e6c4b2ad",
   "metadata": {},
   "outputs": [
    {
     "data": {
      "text/plain": [
       "Setosa        50\n",
       "Versicolor    50\n",
       "Virginica     50\n",
       "Name: variety, dtype: int64"
      ]
     },
     "execution_count": 64,
     "metadata": {},
     "output_type": "execute_result"
    }
   ],
   "source": [
    "ir['variety'].value_counts()"
   ]
  },
  {
   "cell_type": "code",
   "execution_count": 65,
   "id": "65fa7cbc",
   "metadata": {},
   "outputs": [],
   "source": [
    "from sklearn.linear_model import LogisticRegression"
   ]
  },
  {
   "cell_type": "code",
   "execution_count": 67,
   "id": "41b0ed2b",
   "metadata": {},
   "outputs": [
    {
     "name": "stderr",
     "output_type": "stream",
     "text": [
      "/opt/anaconda3/lib/python3.9/site-packages/sklearn/linear_model/_logistic.py:814: ConvergenceWarning: lbfgs failed to converge (status=1):\n",
      "STOP: TOTAL NO. of ITERATIONS REACHED LIMIT.\n",
      "\n",
      "Increase the number of iterations (max_iter) or scale the data as shown in:\n",
      "    https://scikit-learn.org/stable/modules/preprocessing.html\n",
      "Please also refer to the documentation for alternative solver options:\n",
      "    https://scikit-learn.org/stable/modules/linear_model.html#logistic-regression\n",
      "  n_iter_i = _check_optimize_result(\n"
     ]
    },
    {
     "data": {
      "text/plain": [
       "LogisticRegression()"
      ]
     },
     "execution_count": 67,
     "metadata": {},
     "output_type": "execute_result"
    }
   ],
   "source": [
    "log=LogisticRegression()\n",
    "log.fit(x,y)"
   ]
  },
  {
   "cell_type": "code",
   "execution_count": 68,
   "id": "4e08b6e5",
   "metadata": {},
   "outputs": [
    {
     "data": {
      "text/plain": [
       "array([0, 0, 0, 0, 0, 0, 0, 0, 0, 0, 0, 0, 0, 0, 0, 0, 0, 0, 0, 0, 0, 0,\n",
       "       0, 0, 0, 0, 0, 0, 0, 0, 0, 0, 0, 0, 0, 0, 0, 0, 0, 0, 0, 0, 0, 0,\n",
       "       0, 0, 0, 0, 0, 0, 1, 1, 1, 1, 1, 1, 1, 1, 1, 1, 1, 1, 1, 1, 1, 1,\n",
       "       1, 1, 1, 1, 2, 1, 1, 1, 1, 1, 1, 2, 1, 1, 1, 1, 1, 2, 1, 1, 1, 1,\n",
       "       1, 1, 1, 1, 1, 1, 1, 1, 1, 1, 1, 1, 2, 2, 2, 2, 2, 2, 1, 2, 2, 2,\n",
       "       2, 2, 2, 2, 2, 2, 2, 2, 2, 2, 2, 2, 2, 2, 2, 2, 2, 2, 2, 2, 2, 2,\n",
       "       2, 2, 2, 2, 2, 2, 2, 2, 2, 2, 2, 2, 2, 2, 2, 2, 2, 2])"
      ]
     },
     "execution_count": 68,
     "metadata": {},
     "output_type": "execute_result"
    }
   ],
   "source": [
    "log.predict(x)"
   ]
  },
  {
   "cell_type": "code",
   "execution_count": null,
   "id": "7b4be99d",
   "metadata": {},
   "outputs": [],
   "source": []
  }
 ],
 "metadata": {
  "kernelspec": {
   "display_name": "Python 3 (ipykernel)",
   "language": "python",
   "name": "python3"
  },
  "language_info": {
   "codemirror_mode": {
    "name": "ipython",
    "version": 3
   },
   "file_extension": ".py",
   "mimetype": "text/x-python",
   "name": "python",
   "nbconvert_exporter": "python",
   "pygments_lexer": "ipython3",
   "version": "3.9.12"
  }
 },
 "nbformat": 4,
 "nbformat_minor": 5
}
